{
 "cells": [
  {
   "cell_type": "code",
   "execution_count": 2,
   "metadata": {
    "collapsed": false
   },
   "outputs": [],
   "source": [
    "import pandas as pd\n",
    "import numpy as np\n",
    "import sys\n",
    "sys.path.insert(0, '/Users/apple/Desktop/Kaggle-Competition-Titanic/models')\n",
    "from collections import Counter\n",
    "import kmodes"
   ]
  },
  {
   "cell_type": "code",
   "execution_count": 3,
   "metadata": {
    "collapsed": false
   },
   "outputs": [
    {
     "data": {
      "text/html": [
       "<div>\n",
       "<table border=\"1\" class=\"dataframe\">\n",
       "  <thead>\n",
       "    <tr style=\"text-align: right;\">\n",
       "      <th></th>\n",
       "      <th>Survived</th>\n",
       "      <th>Pclass</th>\n",
       "      <th>Sex</th>\n",
       "      <th>Age</th>\n",
       "      <th>SibSp</th>\n",
       "      <th>Parch</th>\n",
       "      <th>Fare</th>\n",
       "      <th>Embarked</th>\n",
       "    </tr>\n",
       "  </thead>\n",
       "  <tbody>\n",
       "    <tr>\n",
       "      <th>0</th>\n",
       "      <td>0</td>\n",
       "      <td>3</td>\n",
       "      <td>0</td>\n",
       "      <td>1</td>\n",
       "      <td>1</td>\n",
       "      <td>0</td>\n",
       "      <td>0</td>\n",
       "      <td>2</td>\n",
       "    </tr>\n",
       "    <tr>\n",
       "      <th>1</th>\n",
       "      <td>1</td>\n",
       "      <td>1</td>\n",
       "      <td>1</td>\n",
       "      <td>2</td>\n",
       "      <td>1</td>\n",
       "      <td>0</td>\n",
       "      <td>3</td>\n",
       "      <td>0</td>\n",
       "    </tr>\n",
       "    <tr>\n",
       "      <th>2</th>\n",
       "      <td>1</td>\n",
       "      <td>3</td>\n",
       "      <td>1</td>\n",
       "      <td>1</td>\n",
       "      <td>0</td>\n",
       "      <td>0</td>\n",
       "      <td>1</td>\n",
       "      <td>2</td>\n",
       "    </tr>\n",
       "    <tr>\n",
       "      <th>3</th>\n",
       "      <td>1</td>\n",
       "      <td>1</td>\n",
       "      <td>1</td>\n",
       "      <td>2</td>\n",
       "      <td>1</td>\n",
       "      <td>0</td>\n",
       "      <td>3</td>\n",
       "      <td>2</td>\n",
       "    </tr>\n",
       "    <tr>\n",
       "      <th>4</th>\n",
       "      <td>0</td>\n",
       "      <td>3</td>\n",
       "      <td>0</td>\n",
       "      <td>2</td>\n",
       "      <td>0</td>\n",
       "      <td>0</td>\n",
       "      <td>1</td>\n",
       "      <td>2</td>\n",
       "    </tr>\n",
       "  </tbody>\n",
       "</table>\n",
       "</div>"
      ],
      "text/plain": [
       "   Survived  Pclass  Sex  Age  SibSp  Parch  Fare  Embarked\n",
       "0         0       3    0    1      1      0     0         2\n",
       "1         1       1    1    2      1      0     3         0\n",
       "2         1       3    1    1      0      0     1         2\n",
       "3         1       1    1    2      1      0     3         2\n",
       "4         0       3    0    2      0      0     1         2"
      ]
     },
     "execution_count": 3,
     "metadata": {},
     "output_type": "execute_result"
    }
   ],
   "source": [
    "pd.read_csv('train_processed.csv', usecols=range(1,9)).head()"
   ]
  },
  {
   "cell_type": "code",
   "execution_count": null,
   "metadata": {
    "collapsed": true
   },
   "outputs": [],
   "source": [
    "np.argsort(lst)[-1]"
   ]
  },
  {
   "cell_type": "code",
   "execution_count": 6,
   "metadata": {
    "collapsed": false
   },
   "outputs": [
    {
     "name": "stdout",
     "output_type": "stream",
     "text": [
      "The best accuracy for the task is 81.82\n"
     ]
    }
   ],
   "source": [
    "# kmodes Model with KNN\n",
    "data = 'train_processed.csv'\n",
    "X = kmodes.get_data(data)\n",
    "# print(X[:4])\n",
    "num_instances = len(X)\n",
    "# store the best records in 5 iterations \n",
    "best_score = 0\n",
    "best_centroids = []\n",
    "best_clusters =[]\n",
    "best_iteratoin = 0\n",
    "for i in range(5):\n",
    "    centroids, clusters , iteration= kmodes.find_centers(X, 2)\n",
    "    purity = kmodes.get_purity(clusters, centroids, num_instances)\n",
    "    if purity > best_score:\n",
    "        best_centroids = centroids\n",
    "        best_clusters = clusters\n",
    "        best_score = purity\n",
    "        best_iteratoin = iteration\n",
    "# centroids, clusters, iteration= kmodes.find_centers(X, 2)\n",
    "# purity = kmodes.get_purity(clusters, centroids, num_instances)\n",
    "# for k in best_clusters.keys():\n",
    "#         points = np.array(best_clusters[k])\n",
    "#         class_attr = Counter(points[:, -1]).most_common(1)\n",
    "#         print(class_attr)\n",
    "actual = pd.read_csv('gender_submission.csv', usecols=[1], dtype=str).values.flatten()\n",
    "test_data = pd.read_csv('test_processed.csv', usecols=range(1,9),dtype=str).values.tolist()\n",
    "for idx, c in enumerate(best_centroids):\n",
    "    labels = np.array(best_clusters[idx])[:,-1]\n",
    "    label = Counter(labels).most_common(1)[0][0]\n",
    "    c[-1] = label\n",
    "# print(best_centroids)\n",
    "count = 0\n",
    "for i, x in enumerate(test_data):\n",
    "    distance = [kmodes.get_distance(x, c[:-1]) for c in best_centroids]\n",
    "    idx = np.argsort(distance)[0]\n",
    "    label = best_centroids[idx][-1]\n",
    "#     print(actual[i])\n",
    "#     print('%s vs %s' % (label, actual[i]))\n",
    "    if str(label) == str(actual[i]):\n",
    "        count += 1\n",
    "acc_kmode_knn = round(float(count)/len(actual)*100, 2)\n",
    "print('The best accuracy for the task is %s' % acc_kmode_knn)"
   ]
  },
  {
   "cell_type": "code",
   "execution_count": 61,
   "metadata": {
    "collapsed": false
   },
   "outputs": [
    {
     "name": "stdout",
     "output_type": "stream",
     "text": [
      "The best accuracy for C4.5 decision tree is 81.58\n"
     ]
    }
   ],
   "source": [
    "# Decision Tree using Gain Ratio\n",
    "import decisionTree_GR\n",
    "train_data = pd.read_csv('train_processed.csv', dtype=str, usecols=range(1,10))\n",
    "actual = pd.read_csv('gender_submission.csv', usecols=[1], dtype=str)\n",
    "test_data = pd.read_csv('test_processed.csv', usecols=range(1,9), dtype=str)\n",
    "# print(train_data.head())\n",
    "test_data = pd.concat([actual, test_data], axis=1)\n",
    "# print(test_data.head())\n",
    "actual = actual.values.flatten()\n",
    "rows = train_data.values.tolist()\n",
    "# print(rows[:2])\n",
    "test_rows = test_data.values.tolist()\n",
    "root = decisionTree_GR.buildtree(rows)\n",
    "# decisionTree_GR.prune(root, 0.1)\n",
    "predictions = []\n",
    "# print(actual)\n",
    "for row in test_rows:\n",
    "    predicted = decisionTree_GR.classify(row, root).most_common(1)[0][0]\n",
    "    predictions.append(predicted)\n",
    "# print(predictions)\n",
    "acc_decisionTree_GR = round(decisionTree_GR.evaluate_accuracy(actual, predictions)*100, 2)\n",
    "print('The best accuracy for C4.5 decision tree is %s' % acc_decisionTree_GR)"
   ]
  },
  {
   "cell_type": "code",
   "execution_count": 65,
   "metadata": {
    "collapsed": false
   },
   "outputs": [
    {
     "name": "stdout",
     "output_type": "stream",
     "text": [
      "The accuracy of Naive Bayers is 94.02\n"
     ]
    }
   ],
   "source": [
    "# Naive Bayers \n",
    "import NaiveBayers\n",
    "from collections import defaultdict\n",
    "train_data = pd.read_csv('train_processed.csv', dtype=str, usecols=range(1,10))\n",
    "actual = pd.read_csv('gender_submission.csv', usecols=[1], dtype=str)\n",
    "test_data = pd.read_csv('test_processed.csv', usecols=range(1,9), dtype=str)\n",
    "test_data = pd.concat([actual, test_data], axis=1)\n",
    "actual = actual.values.flatten()\n",
    "rows = train_data.values.tolist()\n",
    "test_rows = test_data.values.tolist()\n",
    "classes = defaultdict(int)\n",
    "# I create one more attribute that is unnecessary because I want to index to correspond to attributes\n",
    "# attributes: list of dicts: key is 'classValue + attributeValue', value is its corresponding count\n",
    "attributes = [defaultdict(int) for i in range(len(rows[0]))]\n",
    "NaiveBayers.prepare(classes, attributes, rows)\n",
    "acc_NaiveBayers = round(NaiveBayers.test(classes, attributes, test_rows, actual)*100, 2)\n",
    "print('The accuracy of Naive Bayers is %s' % acc_NaiveBayers)       "
   ]
  },
  {
   "cell_type": "code",
   "execution_count": 3,
   "metadata": {
    "collapsed": false
   },
   "outputs": [],
   "source": [
    "# Multi-perceptron\n",
    "import multi_perceptron\n",
    "train_data = pd.read_csv('train_processed.csv', dtype=str, usecols=range(1,10))\n",
    "actual = pd.read_csv('gender_submission.csv', usecols=[1], dtype=str)\n",
    "test_data = pd.read_csv('test_processed.csv', usecols=range(1,9), dtype=str)\n",
    "# X = list of (label, dict)\n"
   ]
  },
  {
   "cell_type": "code",
   "execution_count": 75,
   "metadata": {
    "collapsed": false
   },
   "outputs": [
    {
     "data": {
      "text/html": [
       "<div>\n",
       "<table border=\"1\" class=\"dataframe\">\n",
       "  <thead>\n",
       "    <tr style=\"text-align: right;\">\n",
       "      <th></th>\n",
       "      <th>Model</th>\n",
       "      <th>Score</th>\n",
       "    </tr>\n",
       "  </thead>\n",
       "  <tbody>\n",
       "    <tr>\n",
       "      <th>2</th>\n",
       "      <td>Decision Tree</td>\n",
       "      <td>94.02</td>\n",
       "    </tr>\n",
       "    <tr>\n",
       "      <th>0</th>\n",
       "      <td>kmodes with KNN</td>\n",
       "      <td>82.30</td>\n",
       "    </tr>\n",
       "    <tr>\n",
       "      <th>1</th>\n",
       "      <td>Multinomial Naive Bayers</td>\n",
       "      <td>81.58</td>\n",
       "    </tr>\n",
       "  </tbody>\n",
       "</table>\n",
       "</div>"
      ],
      "text/plain": [
       "                      Model  Score\n",
       "2             Decision Tree  94.02\n",
       "0           kmodes with KNN  82.30\n",
       "1  Multinomial Naive Bayers  81.58"
      ]
     },
     "execution_count": 75,
     "metadata": {},
     "output_type": "execute_result"
    }
   ],
   "source": [
    "models = pd.DataFrame({\n",
    "    'Model': ['kmodes with KNN', 'Multinomial Naive Bayers', \n",
    "              'Decision Tree'],\n",
    "    'Score': [acc_kmode_knn, acc_decisionTree_GR, acc_NaiveBayers]})\n",
    "models.sort_values(by='Score', ascending=False)"
   ]
  },
  {
   "cell_type": "code",
   "execution_count": null,
   "metadata": {
    "collapsed": true
   },
   "outputs": [],
   "source": []
  }
 ],
 "metadata": {
  "kernelspec": {
   "display_name": "Python 2",
   "language": "python",
   "name": "python2"
  },
  "language_info": {
   "codemirror_mode": {
    "name": "ipython",
    "version": 2
   },
   "file_extension": ".py",
   "mimetype": "text/x-python",
   "name": "python",
   "nbconvert_exporter": "python",
   "pygments_lexer": "ipython2",
   "version": "2.7.13"
  }
 },
 "nbformat": 4,
 "nbformat_minor": 2
}
