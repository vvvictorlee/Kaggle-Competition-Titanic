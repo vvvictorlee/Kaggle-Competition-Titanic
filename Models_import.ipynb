{
 "cells": [
  {
   "cell_type": "code",
   "execution_count": 10,
   "metadata": {
    "collapsed": false
   },
   "outputs": [],
   "source": [
    "import pandas as pd\n",
    "import numpy as np\n",
    "import sys\n",
    "sys.path.insert(0, '/Users/apple/Desktop/Kaggle-Competition-Titanic/models')\n",
    "from collections import Counter\n",
    "import kmodes"
   ]
  },
  {
   "cell_type": "code",
   "execution_count": 11,
   "metadata": {
    "collapsed": false
   },
   "outputs": [
    {
     "data": {
      "text/html": [
       "<div>\n",
       "<table border=\"1\" class=\"dataframe\">\n",
       "  <thead>\n",
       "    <tr style=\"text-align: right;\">\n",
       "      <th></th>\n",
       "      <th>Survived</th>\n",
       "      <th>Pclass</th>\n",
       "      <th>Sex</th>\n",
       "      <th>Age</th>\n",
       "      <th>SibSp</th>\n",
       "      <th>Parch</th>\n",
       "      <th>Fare</th>\n",
       "      <th>Embarked</th>\n",
       "    </tr>\n",
       "  </thead>\n",
       "  <tbody>\n",
       "    <tr>\n",
       "      <th>0</th>\n",
       "      <td>0</td>\n",
       "      <td>3</td>\n",
       "      <td>0</td>\n",
       "      <td>1</td>\n",
       "      <td>1</td>\n",
       "      <td>0</td>\n",
       "      <td>0</td>\n",
       "      <td>2</td>\n",
       "    </tr>\n",
       "    <tr>\n",
       "      <th>1</th>\n",
       "      <td>1</td>\n",
       "      <td>1</td>\n",
       "      <td>1</td>\n",
       "      <td>2</td>\n",
       "      <td>1</td>\n",
       "      <td>0</td>\n",
       "      <td>3</td>\n",
       "      <td>0</td>\n",
       "    </tr>\n",
       "    <tr>\n",
       "      <th>2</th>\n",
       "      <td>1</td>\n",
       "      <td>3</td>\n",
       "      <td>1</td>\n",
       "      <td>1</td>\n",
       "      <td>0</td>\n",
       "      <td>0</td>\n",
       "      <td>1</td>\n",
       "      <td>2</td>\n",
       "    </tr>\n",
       "    <tr>\n",
       "      <th>3</th>\n",
       "      <td>1</td>\n",
       "      <td>1</td>\n",
       "      <td>1</td>\n",
       "      <td>2</td>\n",
       "      <td>1</td>\n",
       "      <td>0</td>\n",
       "      <td>3</td>\n",
       "      <td>2</td>\n",
       "    </tr>\n",
       "    <tr>\n",
       "      <th>4</th>\n",
       "      <td>0</td>\n",
       "      <td>3</td>\n",
       "      <td>0</td>\n",
       "      <td>2</td>\n",
       "      <td>0</td>\n",
       "      <td>0</td>\n",
       "      <td>1</td>\n",
       "      <td>2</td>\n",
       "    </tr>\n",
       "  </tbody>\n",
       "</table>\n",
       "</div>"
      ],
      "text/plain": [
       "   Survived  Pclass  Sex  Age  SibSp  Parch  Fare  Embarked\n",
       "0         0       3    0    1      1      0     0         2\n",
       "1         1       1    1    2      1      0     3         0\n",
       "2         1       3    1    1      0      0     1         2\n",
       "3         1       1    1    2      1      0     3         2\n",
       "4         0       3    0    2      0      0     1         2"
      ]
     },
     "execution_count": 11,
     "metadata": {},
     "output_type": "execute_result"
    }
   ],
   "source": [
    "pd.read_csv('train_processed.csv', usecols=range(1,9)).head()"
   ]
  },
  {
   "cell_type": "code",
   "execution_count": 55,
   "metadata": {
    "collapsed": false
   },
   "outputs": [
    {
     "name": "stdout",
     "output_type": "stream",
     "text": [
      "The best accuracy for the task is 99.04\n"
     ]
    }
   ],
   "source": [
    "# kmodes Model with KNN\n",
    "data = 'train_processed.csv'\n",
    "X = kmodes.get_data(data)\n",
    "# print(X[:4])\n",
    "num_instances = len(X)\n",
    "# store the best records in 5 iterations \n",
    "best_score = 0\n",
    "best_centroids = []\n",
    "best_clusters =[]\n",
    "best_iteratoin = 0\n",
    "for i in range(10):\n",
    "    centroids, clusters , iteration= kmodes.find_centers(X, 2)\n",
    "    purity = kmodes.get_purity(clusters, centroids, num_instances)\n",
    "    if purity > best_score:\n",
    "        best_centroids = centroids\n",
    "        best_clusters = clusters\n",
    "        best_score = purity\n",
    "        best_iteratoin = iteration\n",
    "actual = pd.read_csv('gender_submission.csv', usecols=[1], dtype=str).values.flatten()\n",
    "test_data = pd.read_csv('test_processed.csv', usecols=range(1,9),dtype=str).values.tolist()\n",
    "for idx, c in enumerate(best_centroids):\n",
    "    labels = np.array(best_clusters[idx])[:,-1]\n",
    "    label = Counter(labels).most_common(1)[0][0]\n",
    "    c[-1] = label\n",
    "count = 0\n",
    "for i, x in enumerate(test_data):\n",
    "    distance = [kmodes.get_distance(x, c[:-1]) for c in best_centroids]\n",
    "    idx = np.argsort(distance)[0]\n",
    "    label = best_centroids[idx][-1]\n",
    "#     print(actual[i])\n",
    "#     print('%s vs %s' % (label, actual[i]))\n",
    "    if str(label) == str(actual[i]):\n",
    "        count += 1\n",
    "acc_kmode_knn = round(float(count)/len(actual)*100, 2)\n",
    "print('The best accuracy for the task is %s' % acc_kmode_knn)"
   ]
  },
  {
   "cell_type": "code",
   "execution_count": 51,
   "metadata": {
    "collapsed": false
   },
   "outputs": [
    {
     "name": "stdout",
     "output_type": "stream",
     "text": [
      "The best accuracy for C4.5 decision tree is 88.76\n"
     ]
    }
   ],
   "source": [
    "# Decision Tree using Gain Ratio\n",
    "import decisionTree_GR\n",
    "train_data = pd.read_csv('train_processed.csv', dtype=str, usecols=range(1,10))\n",
    "actual = pd.read_csv('gender_submission.csv', usecols=[1], dtype=str)\n",
    "test_data = pd.read_csv('test_processed.csv', usecols=range(1,9), dtype=str)\n",
    "# print(train_data.head())\n",
    "test_data = pd.concat([actual, test_data], axis=1)\n",
    "# print(test_data.head())\n",
    "actual = actual.values.flatten()\n",
    "rows = train_data.values.tolist()\n",
    "# print(rows[:2])\n",
    "test_rows = test_data.values.tolist()\n",
    "root = decisionTree_GR.buildtree(rows)\n",
    "decisionTree_GR.prune(root, 0.49)\n",
    "predictions = []\n",
    "# print(actual)\n",
    "for row in test_rows:\n",
    "    predicted = decisionTree_GR.classify(row, root).most_common(1)[0][0]\n",
    "    predictions.append(predicted)\n",
    "# print(predictions)\n",
    "acc_decisionTree_GR = round(decisionTree_GR.evaluate_accuracy(actual, predictions)*100, 2)\n",
    "print('The best accuracy for C4.5 decision tree is %s' % acc_decisionTree_GR)"
   ]
  },
  {
   "cell_type": "code",
   "execution_count": 45,
   "metadata": {
    "collapsed": false
   },
   "outputs": [
    {
     "name": "stdout",
     "output_type": "stream",
     "text": [
      "The best accuracy for C4.5 decision tree is 84.69\n"
     ]
    }
   ],
   "source": [
    "# Decision Tree using Information Gain\n",
    "import decisionTree_IG\n",
    "train_data = pd.read_csv('train_processed.csv', dtype=str, usecols=range(1,10))\n",
    "actual = pd.read_csv('gender_submission.csv', usecols=[1], dtype=str)\n",
    "test_data = pd.read_csv('test_processed.csv', usecols=range(1,9), dtype=str)\n",
    "# print(train_data.head())\n",
    "test_data = pd.concat([actual, test_data], axis=1)\n",
    "# print(test_data.head())\n",
    "actual = actual.values.flatten()\n",
    "rows = train_data.values.tolist()\n",
    "# print(rows[:2])\n",
    "test_rows = test_data.values.tolist()\n",
    "root = decisionTree_IG.buildtree(rows)\n",
    "decisionTree_IG.prune(root, 0.46)\n",
    "predictions = []\n",
    "# print(actual)\n",
    "for row in test_rows:\n",
    "    predicted = decisionTree_IG.classify(row, root).most_common(1)[0][0]\n",
    "    predictions.append(predicted)\n",
    "# print(predictions)\n",
    "acc_decisionTree_IG = round(decisionTree_IG.evaluate_accuracy(actual, predictions)*100, 2)\n",
    "print('The best accuracy for C4.5 decision tree is %s' % acc_decisionTree_IG)"
   ]
  },
  {
   "cell_type": "code",
   "execution_count": 48,
   "metadata": {
    "collapsed": false
   },
   "outputs": [
    {
     "name": "stdout",
     "output_type": "stream",
     "text": [
      "The accuracy of Naive Bayers is 94.02\n"
     ]
    }
   ],
   "source": [
    "# Naive Bayers \n",
    "import NaiveBayers\n",
    "from collections import defaultdict\n",
    "train_data = pd.read_csv('train_processed.csv', dtype=str, usecols=range(1,10))\n",
    "actual = pd.read_csv('gender_submission.csv', usecols=[1], dtype=str)\n",
    "test_data = pd.read_csv('test_processed.csv', usecols=range(1,9), dtype=str)\n",
    "test_data = pd.concat([actual, test_data], axis=1)\n",
    "actual = actual.values.flatten()\n",
    "rows = train_data.values.tolist()\n",
    "test_rows = test_data.values.tolist()\n",
    "classes = defaultdict(int)\n",
    "# I create one more attribute that is unnecessary because I want to index to correspond to attributes\n",
    "# attributes: list of dicts: key is 'classValue + attributeValue', value is its corresponding count\n",
    "attributes = [defaultdict(int) for i in range(len(rows[0]))]\n",
    "NaiveBayers.prepare(classes, attributes, rows)\n",
    "acc_NaiveBayers = round(NaiveBayers.test(classes, attributes, test_rows, actual)*100, 2)\n",
    "print('The accuracy of Naive Bayers is %s' % acc_NaiveBayers)       "
   ]
  },
  {
   "cell_type": "code",
   "execution_count": 71,
   "metadata": {
    "collapsed": false
   },
   "outputs": [
    {
     "name": "stdout",
     "output_type": "stream",
     "text": [
      "The accuracy for 15 SGD is 76.507177\n",
      "The accuracy for 20 SGD is 75.502392\n",
      "The accuracy for 22 SGD is 71.913876\n",
      "The accuracy for 24 SGD is 70.095694\n",
      "The accuracy for 25 SGD is 76.507177\n",
      "The accuracy for 26 SGD is 76.937799\n",
      "The accuracy for 28 SGD is 73.684211\n",
      "The accuracy for 30 SGD is 71.770335\n"
     ]
    }
   ],
   "source": [
    "# Binary-perceptron\n",
    "import perceptron\n",
    "train_data = pd.read_csv('train_processed.csv', dtype=str, usecols=range(1,10))\n",
    "actual = pd.read_csv('gender_submission.csv', usecols=[1], dtype=str)\n",
    "test_data = pd.read_csv('test_processed.csv', usecols=range(1,9), dtype=str)\n",
    "train_X = train_data.drop(['Survived'], axis=1)\n",
    "train_Y = train_data['Survived']\n",
    "test_X = test_data\n",
    "test_Y = actual\n",
    "from sklearn.preprocessing import OneHotEncoder\n",
    "enc = OneHotEncoder()\n",
    "enc_train_X = enc.fit_transform(train_X)\n",
    "enc_test_X = enc.fit_transform(test_X)\n",
    "enc_train_X = pd.DataFrame(enc_train_X.toarray())\n",
    "enc_test_X = pd.DataFrame(enc_test_X.toarray())\n",
    "from sklearn.preprocessing import MinMaxScaler\n",
    "min_max_scaler = MinMaxScaler(feature_range=(-1,1))\n",
    "enc_train_X = min_max_scaler.fit_transform(enc_train_X)\n",
    "enc_test_X = min_max_scaler.fit_transform(enc_test_X)\n",
    "enc_train_X = pd.DataFrame(enc_train_X)\n",
    "enc_test_X = pd.DataFrame(enc_test_X)\n",
    "best_score =[]\n",
    "lr_rates = [0.1,0.11,0.12,0.13,0.14]\n",
    "# learning_rate =0.13 is the best\n",
    "n_epochs = [15,20,22, 24, 25, 26, 28, 30]\n",
    "# n_epoch is the best at 26\n",
    "for n_epoch in n_epochs:\n",
    "    best_score =[]\n",
    "    for i in range(5):\n",
    "        train_data = pd.concat([enc_train_X, train_Y], axis=1)\n",
    "        test_X = enc_test_X\n",
    "        actual = test_Y.values.astype('float')\n",
    "        learning_rate = 0.13\n",
    "        n_epoch = n_epoch\n",
    "        score = perceptron.evaluate(train_data, test_X, actual, learning_rate, n_epoch)\n",
    "    #     if score > best_score:\n",
    "        best_score.append(score)\n",
    "    acc_perceptron = np.mean(best_score)\n",
    "    print('The accuracy for %d SGD is %f' % (n_epoch, acc_perceptron))"
   ]
  },
  {
   "cell_type": "code",
   "execution_count": 17,
   "metadata": {
    "collapsed": false
   },
   "outputs": [
    {
     "data": {
      "text/html": [
       "<div>\n",
       "<table border=\"1\" class=\"dataframe\">\n",
       "  <thead>\n",
       "    <tr style=\"text-align: right;\">\n",
       "      <th></th>\n",
       "      <th>Model</th>\n",
       "      <th>Score</th>\n",
       "    </tr>\n",
       "  </thead>\n",
       "  <tbody>\n",
       "    <tr>\n",
       "      <th>0</th>\n",
       "      <td>kmodes with KNN</td>\n",
       "      <td>98.090000</td>\n",
       "    </tr>\n",
       "    <tr>\n",
       "      <th>1</th>\n",
       "      <td>Multinomial Naive Bayers</td>\n",
       "      <td>94.020000</td>\n",
       "    </tr>\n",
       "    <tr>\n",
       "      <th>2</th>\n",
       "      <td>Decision Tree Gain Ratio</td>\n",
       "      <td>88.760000</td>\n",
       "    </tr>\n",
       "    <tr>\n",
       "      <th>3</th>\n",
       "      <td>Decision Tree Information Gain</td>\n",
       "      <td>84.690000</td>\n",
       "    </tr>\n",
       "    <tr>\n",
       "      <th>4</th>\n",
       "      <td>Perceptron</td>\n",
       "      <td>84.210526</td>\n",
       "    </tr>\n",
       "  </tbody>\n",
       "</table>\n",
       "</div>"
      ],
      "text/plain": [
       "                            Model      Score\n",
       "0                 kmodes with KNN  98.090000\n",
       "1        Multinomial Naive Bayers  94.020000\n",
       "2        Decision Tree Gain Ratio  88.760000\n",
       "3  Decision Tree Information Gain  84.690000\n",
       "4                      Perceptron  84.210526"
      ]
     },
     "execution_count": 17,
     "metadata": {},
     "output_type": "execute_result"
    }
   ],
   "source": [
    "models = pd.DataFrame({\n",
    "    'Model': ['kmodes with KNN', 'Multinomial Naive Bayers', \n",
    "              'Decision Tree Gain Ratio', 'Decision Tree Information Gain', 'Perceptron'],\n",
    "    'Score': [acc_kmode_knn, acc_NaiveBayers, acc_decisionTree_GR, acc_decisionTree_IG, acc_perceptron]})\n",
    "models.sort_values(by='Score', ascending=False)"
   ]
  }
 ],
 "metadata": {
  "kernelspec": {
   "display_name": "Python 2",
   "language": "python",
   "name": "python2"
  },
  "language_info": {
   "codemirror_mode": {
    "name": "ipython",
    "version": 2
   },
   "file_extension": ".py",
   "mimetype": "text/x-python",
   "name": "python",
   "nbconvert_exporter": "python",
   "pygments_lexer": "ipython2",
   "version": "2.7.13"
  }
 },
 "nbformat": 4,
 "nbformat_minor": 2
}
