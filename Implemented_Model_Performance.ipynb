{
 "cells": [
  {
   "cell_type": "code",
   "execution_count": 1,
   "metadata": {
    "collapsed": false
   },
   "outputs": [],
   "source": [
    "import pandas as pd\n",
    "import numpy as np\n",
    "import sys\n",
    "sys.path.insert(0, '/Users/apple/Desktop/Kaggle-Competition-Titanic/models')\n",
    "from collections import Counter\n",
    "import kmodes"
   ]
  },
  {
   "cell_type": "code",
   "execution_count": 51,
   "metadata": {
    "collapsed": false
   },
   "outputs": [
    {
     "name": "stdout",
     "output_type": "stream",
     "text": [
      "(891, 9)\n"
     ]
    },
    {
     "data": {
      "text/html": [
       "<div>\n",
       "<table border=\"1\" class=\"dataframe\">\n",
       "  <thead>\n",
       "    <tr style=\"text-align: right;\">\n",
       "      <th></th>\n",
       "      <th>Pclass</th>\n",
       "      <th>Sex</th>\n",
       "      <th>Age</th>\n",
       "      <th>SibSp</th>\n",
       "      <th>Parch</th>\n",
       "      <th>Fare</th>\n",
       "      <th>Embarked</th>\n",
       "      <th>Title</th>\n",
       "    </tr>\n",
       "  </thead>\n",
       "  <tbody>\n",
       "    <tr>\n",
       "      <th>0</th>\n",
       "      <td>3</td>\n",
       "      <td>0</td>\n",
       "      <td>1</td>\n",
       "      <td>1</td>\n",
       "      <td>0</td>\n",
       "      <td>0</td>\n",
       "      <td>2</td>\n",
       "      <td>1</td>\n",
       "    </tr>\n",
       "    <tr>\n",
       "      <th>1</th>\n",
       "      <td>1</td>\n",
       "      <td>1</td>\n",
       "      <td>2</td>\n",
       "      <td>1</td>\n",
       "      <td>0</td>\n",
       "      <td>3</td>\n",
       "      <td>0</td>\n",
       "      <td>3</td>\n",
       "    </tr>\n",
       "    <tr>\n",
       "      <th>2</th>\n",
       "      <td>3</td>\n",
       "      <td>1</td>\n",
       "      <td>1</td>\n",
       "      <td>0</td>\n",
       "      <td>0</td>\n",
       "      <td>1</td>\n",
       "      <td>2</td>\n",
       "      <td>2</td>\n",
       "    </tr>\n",
       "    <tr>\n",
       "      <th>3</th>\n",
       "      <td>1</td>\n",
       "      <td>1</td>\n",
       "      <td>2</td>\n",
       "      <td>1</td>\n",
       "      <td>0</td>\n",
       "      <td>3</td>\n",
       "      <td>2</td>\n",
       "      <td>3</td>\n",
       "    </tr>\n",
       "    <tr>\n",
       "      <th>4</th>\n",
       "      <td>3</td>\n",
       "      <td>0</td>\n",
       "      <td>2</td>\n",
       "      <td>0</td>\n",
       "      <td>0</td>\n",
       "      <td>1</td>\n",
       "      <td>2</td>\n",
       "      <td>1</td>\n",
       "    </tr>\n",
       "  </tbody>\n",
       "</table>\n",
       "</div>"
      ],
      "text/plain": [
       "  Pclass Sex Age SibSp Parch Fare Embarked Title\n",
       "0      3   0   1     1     0    0        2     1\n",
       "1      1   1   2     1     0    3        0     3\n",
       "2      3   1   1     0     0    1        2     2\n",
       "3      1   1   2     1     0    3        2     3\n",
       "4      3   0   2     0     0    1        2     1"
      ]
     },
     "execution_count": 51,
     "metadata": {},
     "output_type": "execute_result"
    }
   ],
   "source": [
    "df = pd.read_csv('train_processed.csv', usecols=range(1,10), dtype=str)\n",
    "print(df.shape)\n",
    "df.drop(['Survived'], axis=1).head()"
   ]
  },
  {
   "cell_type": "code",
   "execution_count": 43,
   "metadata": {
    "collapsed": false
   },
   "outputs": [
    {
     "data": {
      "text/html": [
       "<div>\n",
       "<table border=\"1\" class=\"dataframe\">\n",
       "  <thead>\n",
       "    <tr style=\"text-align: right;\">\n",
       "      <th></th>\n",
       "      <th>Pclass</th>\n",
       "      <th>Sex</th>\n",
       "      <th>Age</th>\n",
       "      <th>SibSp</th>\n",
       "      <th>Parch</th>\n",
       "      <th>Fare</th>\n",
       "      <th>Embarked</th>\n",
       "      <th>Title</th>\n",
       "    </tr>\n",
       "  </thead>\n",
       "  <tbody>\n",
       "    <tr>\n",
       "      <th>0</th>\n",
       "      <td>3</td>\n",
       "      <td>0</td>\n",
       "      <td>2</td>\n",
       "      <td>0</td>\n",
       "      <td>0</td>\n",
       "      <td>0</td>\n",
       "      <td>1</td>\n",
       "      <td>1</td>\n",
       "    </tr>\n",
       "    <tr>\n",
       "      <th>1</th>\n",
       "      <td>3</td>\n",
       "      <td>1</td>\n",
       "      <td>2</td>\n",
       "      <td>1</td>\n",
       "      <td>0</td>\n",
       "      <td>0</td>\n",
       "      <td>2</td>\n",
       "      <td>3</td>\n",
       "    </tr>\n",
       "    <tr>\n",
       "      <th>2</th>\n",
       "      <td>2</td>\n",
       "      <td>0</td>\n",
       "      <td>3</td>\n",
       "      <td>0</td>\n",
       "      <td>0</td>\n",
       "      <td>1</td>\n",
       "      <td>1</td>\n",
       "      <td>1</td>\n",
       "    </tr>\n",
       "    <tr>\n",
       "      <th>3</th>\n",
       "      <td>3</td>\n",
       "      <td>0</td>\n",
       "      <td>1</td>\n",
       "      <td>0</td>\n",
       "      <td>0</td>\n",
       "      <td>1</td>\n",
       "      <td>2</td>\n",
       "      <td>1</td>\n",
       "    </tr>\n",
       "    <tr>\n",
       "      <th>4</th>\n",
       "      <td>3</td>\n",
       "      <td>1</td>\n",
       "      <td>1</td>\n",
       "      <td>1</td>\n",
       "      <td>1</td>\n",
       "      <td>1</td>\n",
       "      <td>2</td>\n",
       "      <td>3</td>\n",
       "    </tr>\n",
       "  </tbody>\n",
       "</table>\n",
       "</div>"
      ],
      "text/plain": [
       "  Pclass Sex Age SibSp Parch Fare Embarked Title\n",
       "0      3   0   2     0     0    0        1     1\n",
       "1      3   1   2     1     0    0        2     3\n",
       "2      2   0   3     0     0    1        1     1\n",
       "3      3   0   1     0     0    1        2     1\n",
       "4      3   1   1     1     1    1        2     3"
      ]
     },
     "execution_count": 43,
     "metadata": {},
     "output_type": "execute_result"
    }
   ],
   "source": [
    "test = pd.read_csv('test_processed.csv', usecols=range(1,9),dtype=str)\n",
    "test.head()"
   ]
  },
  {
   "cell_type": "code",
   "execution_count": 56,
   "metadata": {
    "collapsed": false
   },
   "outputs": [
    {
     "data": {
      "text/plain": [
       "[['2', '0', '2', '0', '0', '1', '2'],\n",
       " ['2', '1', '1', '1', '1', '2', '2'],\n",
       " ['1', '0', '0', '1', '1', '3', '2'],\n",
       " ['3', '0', '0', '0', '1', '1', '0'],\n",
       " ['3', '0', '1', '0', '0', '0', '2']]"
      ]
     },
     "execution_count": 56,
     "metadata": {},
     "output_type": "execute_result"
    }
   ],
   "source": [
    "data = 'train_processed.csv'\n",
    "# data = kmodes.get_data(data)\n",
    "# X = data[:800]\n",
    "# Y = data[800:]\n",
    "df = pd.read_csv('train_processed.csv', usecols=range(1,9), dtype=str)\n",
    "actual = df[800:]['Survived'].values.flatten()\n",
    "test_data = df[800:].drop(['Survived'], axis=1).values.tolist()\n",
    "# test_data[:5]\n",
    "test_data[:5]\n",
    "# actual = pd.read_csv('gender_submission.csv', usecols=[1], dtype=str).values.flatten()"
   ]
  },
  {
   "cell_type": "markdown",
   "metadata": {},
   "source": [
    "## KNN"
   ]
  },
  {
   "cell_type": "code",
   "execution_count": 100,
   "metadata": {
    "collapsed": false
   },
   "outputs": [
    {
     "name": "stdout",
     "output_type": "stream",
     "text": [
      "   PassengerId Survived\n",
      "0          892        0\n",
      "1          893        1\n",
      "2          894        0\n",
      "3          895        0\n",
      "4          896        1\n",
      "The best accuracy on Kaggle is 0.78469\n"
     ]
    }
   ],
   "source": [
    "# KNN K=22\n",
    "data = 'train_processed.csv'\n",
    "X = kmodes.get_data(data)\n",
    "predictions = []\n",
    "test_data = pd.read_csv('test_processed.csv', usecols=range(1,9),dtype=str).values.tolist()\n",
    "K = 22\n",
    "prediction = []\n",
    "\n",
    "def getkey(item):\n",
    "    return item[0]\n",
    "\n",
    "def get_label(item):\n",
    "    lst = [each[1] for each in item]\n",
    "#     print(lst)\n",
    "    return Counter(lst).most_common(1)[0][0]\n",
    "\n",
    "for i,x in enumerate(test_data):\n",
    "    closest = []\n",
    "    for pt in X:\n",
    "        d = kmodes.get_distance(pt[:-1],x)\n",
    "        l = pt[-1]\n",
    "        closest.append((d,l))\n",
    "    closest.sort(key=getkey)\n",
    "    closest = closest[:K]\n",
    "    label = get_label(closest)\n",
    "    prediction.append(label)\n",
    "#     print(label)\n",
    "    \n",
    "test_ID = pd.read_csv('gender_submission.csv')\n",
    "submission = pd.DataFrame({\n",
    "        \"PassengerId\": test_ID[\"PassengerId\"],\n",
    "        \"Survived\": prediction\n",
    "    })\n",
    "print(submission.head())\n",
    "submission.to_csv('titanic.csv', index=False)\n",
    "print('The best accuracy on Kaggle is 0.78469')"
   ]
  },
  {
   "cell_type": "markdown",
   "metadata": {},
   "source": [
    "## kmodes Model with KNN"
   ]
  },
  {
   "cell_type": "code",
   "execution_count": 67,
   "metadata": {
    "collapsed": false
   },
   "outputs": [
    {
     "name": "stdout",
     "output_type": "stream",
     "text": [
      "   PassengerId Survived\n",
      "0          892        0\n",
      "1          893        1\n",
      "2          894        0\n",
      "3          895        0\n",
      "4          896        1\n",
      "The best accuracy on Kaggle is 0.73206\n"
     ]
    }
   ],
   "source": [
    "# kmodes Model with KNN\n",
    "# from sklearn.model_selection import train_test_split\n",
    "data = 'train_processed.csv'\n",
    "X = kmodes.get_data(data)\n",
    "# print(X[:4])\n",
    "scores = []\n",
    "predictions = []\n",
    "for i in range(5):\n",
    "    num_instances = len(X)\n",
    "    # store the best records in 5 iterations \n",
    "    best_score = 0\n",
    "    best_centroids = []\n",
    "    best_clusters =[]\n",
    "    best_iteratoin = 0\n",
    "    pred = []\n",
    "    for i in range(10):\n",
    "        centroids, clusters , iteration= kmodes.find_centers(X, 2)\n",
    "        purity = kmodes.get_purity(clusters, centroids, num_instances)\n",
    "        if purity > best_score:\n",
    "            best_centroids = centroids\n",
    "            best_clusters = clusters\n",
    "            best_score = purity\n",
    "            best_iteratoin = iteration\n",
    "    actual = pd.read_csv('gender_submission.csv', usecols=[1], dtype=str).values.flatten()\n",
    "    test_data = pd.read_csv('test_processed.csv', usecols=range(1,9),dtype=str).values.tolist()\n",
    "    for idx, c in enumerate(best_centroids):\n",
    "        labels = np.array(best_clusters[idx])[:,-1]\n",
    "        label = Counter(labels).most_common(1)[0][0]\n",
    "        c[-1] = label\n",
    "    count = 0\n",
    "    for i, x in enumerate(test_data):\n",
    "        distance = [kmodes.get_distance(x, c[:-1]) for c in best_centroids]\n",
    "        idx = np.argsort(distance)[0]\n",
    "        label = best_centroids[idx][-1]\n",
    "    #     print(actual[i])\n",
    "    #     print('%s vs %s' % (label, actual[i]))\n",
    "        pred.append(label)\n",
    "        if str(label) == str(actual[i]):\n",
    "            count += 1\n",
    "    predictions.append(pred)\n",
    "    acc_kmode_knn = round(float(count)/len(actual)*100, 2)\n",
    "    scores.append(acc_kmode_knn)\n",
    "idx = np.argsort(scores)[0]\n",
    "prediction = predictions[idx]\n",
    "test_ID = pd.read_csv('gender_submission.csv')\n",
    "submission = pd.DataFrame({\n",
    "        \"PassengerId\": test_ID[\"PassengerId\"],\n",
    "        \"Survived\": prediction\n",
    "    })\n",
    "print(submission.head())\n",
    "submission.to_csv('titanic.csv', index=False)\n",
    "print('The best accuracy on Kaggle is 0.73206')"
   ]
  },
  {
   "cell_type": "markdown",
   "metadata": {},
   "source": [
    "## Decision Tree using Gain Ratio"
   ]
  },
  {
   "cell_type": "code",
   "execution_count": 68,
   "metadata": {
    "collapsed": false
   },
   "outputs": [
    {
     "name": "stdout",
     "output_type": "stream",
     "text": [
      "   PassengerId Survived\n",
      "0          892        0\n",
      "1          893        1\n",
      "2          894        0\n",
      "3          895        0\n",
      "4          896        0\n",
      "The best accuracy for C4.5 decision tree is 0.78469\n"
     ]
    }
   ],
   "source": [
    "# Decision Tree using Gain Ratio\n",
    "import decisionTree_GR\n",
    "train_data = pd.read_csv('train_processed.csv', dtype=str, usecols=range(1,10))\n",
    "actual = pd.read_csv('gender_submission.csv', usecols=[1], dtype=str)\n",
    "test_data = pd.read_csv('test_processed.csv', usecols=range(1,9), dtype=str)\n",
    "# print(train_data.head())\n",
    "test_data = pd.concat([actual, test_data], axis=1)\n",
    "# print(test_data.head())\n",
    "actual = actual.values.flatten()\n",
    "rows = train_data.values.tolist()\n",
    "# print(rows[:2])\n",
    "test_rows = test_data.values.tolist()\n",
    "root = decisionTree_GR.buildtree(rows)\n",
    "decisionTree_GR.prune(root, 0.49)\n",
    "predictions = []\n",
    "# print(actual)\n",
    "for row in test_rows:\n",
    "    predicted = decisionTree_GR.classify(row, root).most_common(1)[0][0]\n",
    "    predictions.append(predicted)\n",
    "# print(predictions)\n",
    "test_ID = pd.read_csv('gender_submission.csv')\n",
    "submission = pd.DataFrame({\n",
    "        \"PassengerId\": test_ID[\"PassengerId\"],\n",
    "        \"Survived\": predictions\n",
    "    })\n",
    "print(submission.head())\n",
    "submission.to_csv('titanic.csv', index=False)\n",
    "print('The best accuracy for C4.5 decision tree is 0.78469')"
   ]
  },
  {
   "cell_type": "markdown",
   "metadata": {},
   "source": [
    "## Decision Tree using Information Gain"
   ]
  },
  {
   "cell_type": "code",
   "execution_count": 73,
   "metadata": {
    "collapsed": false
   },
   "outputs": [
    {
     "name": "stdout",
     "output_type": "stream",
     "text": [
      "   PassengerId Survived\n",
      "0          892        0\n",
      "1          893        0\n",
      "2          894        0\n",
      "3          895        0\n",
      "4          896        0\n",
      "The best accuracy for IG decision tree is 0.77033\n"
     ]
    }
   ],
   "source": [
    "# Decision Tree using Information Gain\n",
    "import decisionTree_IG\n",
    "train_data = pd.read_csv('train_processed.csv', dtype=str, usecols=range(1,10))\n",
    "actual = pd.read_csv('gender_submission.csv', usecols=[1], dtype=str)\n",
    "test_data = pd.read_csv('test_processed.csv', usecols=range(1,9), dtype=str)\n",
    "# print(train_data.head())\n",
    "test_data = pd.concat([actual, test_data], axis=1)\n",
    "# print(test_data.head())\n",
    "actual = actual.values.flatten()\n",
    "rows = train_data.values.tolist()\n",
    "# print(rows[:2])\n",
    "test_rows = test_data.values.tolist()\n",
    "root = decisionTree_IG.buildtree(rows)\n",
    "decisionTree_IG.prune(root, 0.46)\n",
    "predictions = []\n",
    "# print(actual)\n",
    "for row in test_rows:\n",
    "    predicted = decisionTree_IG.classify(row, root).most_common(1)[0][0]\n",
    "    predictions.append(predicted)\n",
    "# print(predictions)\n",
    "test_ID = pd.read_csv('gender_submission.csv')\n",
    "submission = pd.DataFrame({\n",
    "        \"PassengerId\": test_ID[\"PassengerId\"],\n",
    "        \"Survived\": predictions\n",
    "    })\n",
    "print(submission.head())\n",
    "submission.to_csv('titanic.csv', index=False)\n",
    "print('The best accuracy for IG decision tree is 0.77033')"
   ]
  },
  {
   "cell_type": "markdown",
   "metadata": {},
   "source": [
    "## Naive Bayers "
   ]
  },
  {
   "cell_type": "code",
   "execution_count": 77,
   "metadata": {
    "collapsed": false
   },
   "outputs": [
    {
     "name": "stdout",
     "output_type": "stream",
     "text": [
      "   PassengerId Survived\n",
      "0          892        0\n",
      "1          893        1\n",
      "2          894        0\n",
      "3          895        0\n",
      "4          896        1\n",
      "The accuracy of Naive Bayers is 0.74641\n"
     ]
    }
   ],
   "source": [
    "# Naive Bayers \n",
    "import NaiveBayers\n",
    "from collections import defaultdict\n",
    "train_data = pd.read_csv('train_processed.csv', dtype=str, usecols=range(1,10))\n",
    "actual = pd.read_csv('gender_submission.csv', usecols=[1], dtype=str)\n",
    "test_data = pd.read_csv('test_processed.csv', usecols=range(1,9), dtype=str)\n",
    "test_data = pd.concat([actual, test_data], axis=1)\n",
    "actual = actual.values.flatten()\n",
    "rows = train_data.values.tolist()\n",
    "test_rows = test_data.values.tolist()\n",
    "classes = defaultdict(int)\n",
    "# I create one more attribute that is unnecessary because I want to index to correspond to attributes\n",
    "# attributes: list of dicts: key is 'classValue + attributeValue', value is its corresponding count\n",
    "attributes = [defaultdict(int) for i in range(len(rows[0]))]\n",
    "NaiveBayers.prepare(classes, attributes, rows)\n",
    "predictions = NaiveBayers.test(classes, attributes, test_rows, actual)\n",
    "test_ID = pd.read_csv('gender_submission.csv')\n",
    "submission = pd.DataFrame({\n",
    "        \"PassengerId\": test_ID[\"PassengerId\"],\n",
    "        \"Survived\": predictions\n",
    "    })\n",
    "print(submission.head())\n",
    "submission.to_csv('titanic.csv', index=False)\n",
    "print('The accuracy of Naive Bayers is 0.74641')       "
   ]
  },
  {
   "cell_type": "markdown",
   "metadata": {},
   "source": [
    "## Binary-perceptron"
   ]
  },
  {
   "cell_type": "code",
   "execution_count": 80,
   "metadata": {
    "collapsed": false
   },
   "outputs": [
    {
     "name": "stdout",
     "output_type": "stream",
     "text": [
      "   PassengerId Survived\n",
      "0          892        0\n",
      "1          893        1\n",
      "2          894        0\n",
      "3          895        0\n",
      "4          896        1\n",
      "The accuracy for %d GD is 0.74641\n"
     ]
    }
   ],
   "source": [
    "# Binary-perceptron\n",
    "import perceptron\n",
    "train_data = pd.read_csv('train_processed.csv', dtype=str, usecols=range(1,10))\n",
    "actual = pd.read_csv('gender_submission.csv', usecols=[1], dtype=str)\n",
    "test_data = pd.read_csv('test_processed.csv', usecols=range(1,9), dtype=str)\n",
    "train_X = train_data.drop(['Survived'], axis=1)\n",
    "train_Y = train_data['Survived']\n",
    "test_X = test_data\n",
    "test_Y = actual\n",
    "from sklearn.preprocessing import OneHotEncoder\n",
    "enc = OneHotEncoder()\n",
    "enc_train_X = enc.fit_transform(train_X)\n",
    "enc_test_X = enc.fit_transform(test_X)\n",
    "enc_train_X = pd.DataFrame(enc_train_X.toarray())\n",
    "enc_test_X = pd.DataFrame(enc_test_X.toarray())\n",
    "from sklearn.preprocessing import MinMaxScaler\n",
    "min_max_scaler = MinMaxScaler(feature_range=(-1,1))\n",
    "enc_train_X = min_max_scaler.fit_transform(enc_train_X)\n",
    "enc_test_X = min_max_scaler.fit_transform(enc_test_X)\n",
    "enc_train_X = pd.DataFrame(enc_train_X)\n",
    "enc_test_X = pd.DataFrame(enc_test_X)\n",
    "lr_rates = [0.1,0.11,0.12,0.13,0.14]\n",
    "# learning_rate =0.13 is the best\n",
    "n_epochs = [15,20,22, 24, 25, 26, 28, 30]\n",
    "# n_epoch is the best at 26\n",
    "prediction = []\n",
    "for n_epoch in n_epochs:\n",
    "    for i in range(5):\n",
    "        train_data = pd.concat([enc_train_X, train_Y], axis=1)\n",
    "        test_X = enc_test_X\n",
    "        actual = test_Y.values.astype('float')\n",
    "        learning_rate = 0.13\n",
    "        n_epoch = n_epoch\n",
    "        prediction = perceptron.evaluate(train_data, test_X, actual, learning_rate, n_epoch)\n",
    "test_ID = pd.read_csv('gender_submission.csv')\n",
    "submission = pd.DataFrame({\n",
    "        \"PassengerId\": test_ID[\"PassengerId\"],\n",
    "        \"Survived\": predictions\n",
    "    })\n",
    "print(submission.head())\n",
    "submission.to_csv('titanic.csv', index=False)\n",
    "print('The accuracy for %d GD is 0.74641')"
   ]
  },
  {
   "cell_type": "code",
   "execution_count": 101,
   "metadata": {
    "collapsed": false
   },
   "outputs": [
    {
     "data": {
      "text/html": [
       "<div>\n",
       "<table border=\"1\" class=\"dataframe\">\n",
       "  <thead>\n",
       "    <tr style=\"text-align: right;\">\n",
       "      <th></th>\n",
       "      <th>Model</th>\n",
       "      <th>Score</th>\n",
       "    </tr>\n",
       "  </thead>\n",
       "  <tbody>\n",
       "    <tr>\n",
       "      <th>0</th>\n",
       "      <td>KNN</td>\n",
       "      <td>0.78469</td>\n",
       "    </tr>\n",
       "    <tr>\n",
       "      <th>3</th>\n",
       "      <td>Decision Tree Gain Ratio</td>\n",
       "      <td>0.78469</td>\n",
       "    </tr>\n",
       "    <tr>\n",
       "      <th>4</th>\n",
       "      <td>Decision Tree Information Gain</td>\n",
       "      <td>0.77033</td>\n",
       "    </tr>\n",
       "    <tr>\n",
       "      <th>2</th>\n",
       "      <td>Multinomial Naive Bayers</td>\n",
       "      <td>0.74641</td>\n",
       "    </tr>\n",
       "    <tr>\n",
       "      <th>5</th>\n",
       "      <td>Perceptron</td>\n",
       "      <td>0.74641</td>\n",
       "    </tr>\n",
       "    <tr>\n",
       "      <th>1</th>\n",
       "      <td>kmodes with KNN</td>\n",
       "      <td>0.73206</td>\n",
       "    </tr>\n",
       "  </tbody>\n",
       "</table>\n",
       "</div>"
      ],
      "text/plain": [
       "                            Model    Score\n",
       "0                             KNN  0.78469\n",
       "3        Decision Tree Gain Ratio  0.78469\n",
       "4  Decision Tree Information Gain  0.77033\n",
       "2        Multinomial Naive Bayers  0.74641\n",
       "5                      Perceptron  0.74641\n",
       "1                 kmodes with KNN  0.73206"
      ]
     },
     "execution_count": 101,
     "metadata": {},
     "output_type": "execute_result"
    }
   ],
   "source": [
    "models = pd.DataFrame({\n",
    "    'Model': ['KNN',' kmodes with KNN', 'Multinomial Naive Bayers', \n",
    "              'Decision Tree Gain Ratio', 'Decision Tree Information Gain', 'Perceptron'],\n",
    "    'Score': ['0.78469','0.73206', '0.74641', '0.78469', '0.77033', '0.74641']})\n",
    "models.sort_values(by='Score', ascending=False)"
   ]
  }
 ],
 "metadata": {
  "kernelspec": {
   "display_name": "Python 2",
   "language": "python",
   "name": "python2"
  },
  "language_info": {
   "codemirror_mode": {
    "name": "ipython",
    "version": 2
   },
   "file_extension": ".py",
   "mimetype": "text/x-python",
   "name": "python",
   "nbconvert_exporter": "python",
   "pygments_lexer": "ipython2",
   "version": "2.7.13"
  }
 },
 "nbformat": 4,
 "nbformat_minor": 2
}
