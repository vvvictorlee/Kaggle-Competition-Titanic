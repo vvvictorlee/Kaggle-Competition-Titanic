{
 "cells": [
  {
   "cell_type": "code",
   "execution_count": 1,
   "metadata": {
    "collapsed": true
   },
   "outputs": [],
   "source": [
    "import pandas as pd\n",
    "import numpy as np\n",
    "from collections import Counter\n",
    "# machine learning\n",
    "from sklearn.linear_model import LogisticRegression\n",
    "from sklearn.svm import SVC, LinearSVC\n",
    "from sklearn.ensemble import RandomForestClassifier\n",
    "from sklearn.neighbors import KNeighborsClassifier\n",
    "from sklearn.naive_bayes import GaussianNB, MultinomialNB\n",
    "from sklearn.linear_model import Perceptron\n",
    "from sklearn.linear_model import SGDClassifier\n",
    "from sklearn.tree import DecisionTreeClassifier"
   ]
  },
  {
   "cell_type": "code",
   "execution_count": 2,
   "metadata": {
    "collapsed": true
   },
   "outputs": [],
   "source": [
    "# Using scikit models to test againt the data "
   ]
  },
  {
   "cell_type": "code",
   "execution_count": 3,
   "metadata": {
    "collapsed": false
   },
   "outputs": [
    {
     "data": {
      "text/html": [
       "<div>\n",
       "<table border=\"1\" class=\"dataframe\">\n",
       "  <thead>\n",
       "    <tr style=\"text-align: right;\">\n",
       "      <th></th>\n",
       "      <th>Survived</th>\n",
       "      <th>Pclass</th>\n",
       "      <th>Sex</th>\n",
       "      <th>Age</th>\n",
       "      <th>SibSp</th>\n",
       "      <th>Parch</th>\n",
       "      <th>Fare</th>\n",
       "      <th>Embarked</th>\n",
       "      <th>Title</th>\n",
       "    </tr>\n",
       "  </thead>\n",
       "  <tbody>\n",
       "    <tr>\n",
       "      <th>0</th>\n",
       "      <td>0</td>\n",
       "      <td>3</td>\n",
       "      <td>0</td>\n",
       "      <td>1</td>\n",
       "      <td>1</td>\n",
       "      <td>0</td>\n",
       "      <td>0</td>\n",
       "      <td>2</td>\n",
       "      <td>1</td>\n",
       "    </tr>\n",
       "    <tr>\n",
       "      <th>1</th>\n",
       "      <td>1</td>\n",
       "      <td>1</td>\n",
       "      <td>1</td>\n",
       "      <td>2</td>\n",
       "      <td>1</td>\n",
       "      <td>0</td>\n",
       "      <td>3</td>\n",
       "      <td>0</td>\n",
       "      <td>3</td>\n",
       "    </tr>\n",
       "    <tr>\n",
       "      <th>2</th>\n",
       "      <td>1</td>\n",
       "      <td>3</td>\n",
       "      <td>1</td>\n",
       "      <td>1</td>\n",
       "      <td>0</td>\n",
       "      <td>0</td>\n",
       "      <td>1</td>\n",
       "      <td>2</td>\n",
       "      <td>2</td>\n",
       "    </tr>\n",
       "    <tr>\n",
       "      <th>3</th>\n",
       "      <td>1</td>\n",
       "      <td>1</td>\n",
       "      <td>1</td>\n",
       "      <td>2</td>\n",
       "      <td>1</td>\n",
       "      <td>0</td>\n",
       "      <td>3</td>\n",
       "      <td>2</td>\n",
       "      <td>3</td>\n",
       "    </tr>\n",
       "    <tr>\n",
       "      <th>4</th>\n",
       "      <td>0</td>\n",
       "      <td>3</td>\n",
       "      <td>0</td>\n",
       "      <td>2</td>\n",
       "      <td>0</td>\n",
       "      <td>0</td>\n",
       "      <td>1</td>\n",
       "      <td>2</td>\n",
       "      <td>1</td>\n",
       "    </tr>\n",
       "  </tbody>\n",
       "</table>\n",
       "</div>"
      ],
      "text/plain": [
       "  Survived Pclass Sex Age SibSp Parch Fare Embarked Title\n",
       "0        0      3   0   1     1     0    0        2     1\n",
       "1        1      1   1   2     1     0    3        0     3\n",
       "2        1      3   1   1     0     0    1        2     2\n",
       "3        1      1   1   2     1     0    3        2     3\n",
       "4        0      3   0   2     0     0    1        2     1"
      ]
     },
     "execution_count": 3,
     "metadata": {},
     "output_type": "execute_result"
    }
   ],
   "source": [
    "train_data = pd.read_csv('train_processed.csv', dtype=str, usecols=range(1,10))\n",
    "actual = pd.read_csv('gender_submission.csv', usecols=[1], dtype=str)\n",
    "test_data = pd.read_csv('test_processed.csv', usecols=range(1,9), dtype=str)\n",
    "train_data.head()"
   ]
  },
  {
   "cell_type": "code",
   "execution_count": 4,
   "metadata": {
    "collapsed": false
   },
   "outputs": [
    {
     "data": {
      "text/html": [
       "<div>\n",
       "<table border=\"1\" class=\"dataframe\">\n",
       "  <thead>\n",
       "    <tr style=\"text-align: right;\">\n",
       "      <th></th>\n",
       "      <th>Survived</th>\n",
       "    </tr>\n",
       "  </thead>\n",
       "  <tbody>\n",
       "    <tr>\n",
       "      <th>0</th>\n",
       "      <td>0</td>\n",
       "    </tr>\n",
       "    <tr>\n",
       "      <th>1</th>\n",
       "      <td>1</td>\n",
       "    </tr>\n",
       "    <tr>\n",
       "      <th>2</th>\n",
       "      <td>0</td>\n",
       "    </tr>\n",
       "    <tr>\n",
       "      <th>3</th>\n",
       "      <td>0</td>\n",
       "    </tr>\n",
       "    <tr>\n",
       "      <th>4</th>\n",
       "      <td>1</td>\n",
       "    </tr>\n",
       "  </tbody>\n",
       "</table>\n",
       "</div>"
      ],
      "text/plain": [
       "  Survived\n",
       "0        0\n",
       "1        1\n",
       "2        0\n",
       "3        0\n",
       "4        1"
      ]
     },
     "execution_count": 4,
     "metadata": {},
     "output_type": "execute_result"
    }
   ],
   "source": [
    "train_X = train_data.drop(['Survived'], axis=1)\n",
    "# train_X.head()\n",
    "train_Y = train_data['Survived']\n",
    "# train_Y.head()\n",
    "test_X = test_data\n",
    "# test_X.head()\n",
    "test_Y = actual\n",
    "actual.head()"
   ]
  },
  {
   "cell_type": "code",
   "execution_count": 7,
   "metadata": {
    "collapsed": true
   },
   "outputs": [],
   "source": [
    "# one-hot encoding\n",
    "from sklearn.preprocessing import OneHotEncoder\n",
    "enc = OneHotEncoder()\n",
    "enc_train_X = enc.fit_transform(train_X)\n",
    "enc_test_X = enc.fit_transform(test_X)"
   ]
  },
  {
   "cell_type": "code",
   "execution_count": 12,
   "metadata": {
    "collapsed": false
   },
   "outputs": [
    {
     "name": "stdout",
     "output_type": "stream",
     "text": [
      "95.93\n"
     ]
    }
   ],
   "source": [
    "# KNN with one hot encoding\n",
    "res = []\n",
    "for i in range(1, 50):\n",
    "    knnModel = KNeighborsClassifier(n_neighbors=i)\n",
    "    knnModel.fit(enc_train_X, train_Y)\n",
    "    acc_knnModel = round(knnModel.score(enc_test_X, test_Y)*100, 2)\n",
    "    res.append(acc_knnModel)\n",
    "#     print(acc_knnModel)\n",
    "# print('The largest is')\n",
    "print(max(res))"
   ]
  },
  {
   "cell_type": "code",
   "execution_count": 31,
   "metadata": {
    "collapsed": false
   },
   "outputs": [
    {
     "name": "stdout",
     "output_type": "stream",
     "text": [
      "['LogisticRegression', 'KNeighborsClassifier', 'GaussianNB', 'SVC', 'DecisionTreeClassifier', 'RandomForestClassifier', 'SGDClassifier', 'MultinomialNB', 'Perceptron']\n",
      "[95.93, 91.15, 83.25, 91.15, 83.97, 83.97, 70.33, 84.93, 95.22]\n"
     ]
    }
   ],
   "source": [
    "from sklearn.ensemble import RandomForestClassifier, AdaBoostClassifier, GradientBoostingClassifier\n",
    "from sklearn.discriminant_analysis import LinearDiscriminantAnalysis, QuadraticDiscriminantAnalysis\n",
    "classifiers = [\n",
    "    LogisticRegression(),\n",
    "    SVC(probability=True),\n",
    "    KNeighborsClassifier(n_neighbors=30),\n",
    "    GaussianNB(),\n",
    "    MultinomialNB(),\n",
    "    Perceptron(),\n",
    "    SGDClassifier(),\n",
    "    DecisionTreeClassifier(),\n",
    "    RandomForestClassifier()]\n",
    "columns = ['Classifier', 'Accuracy']\n",
    "record = pd.DataFrame(columns = columns)\n",
    "acc_dict = {}\n",
    "for cls in classifiers:\n",
    "    name = cls.__class__.__name__\n",
    "    cls.fit(train_X, train_Y)\n",
    "    acc = round(cls.score(test_X, test_Y)*100, 2)\n",
    "    acc_dict[name] = acc\n",
    "print(acc_dict.keys())\n",
    "print(acc_dict.values())\n"
   ]
  },
  {
   "cell_type": "code",
   "execution_count": 15,
   "metadata": {
    "collapsed": false
   },
   "outputs": [
    {
     "name": "stdout",
     "output_type": "stream",
     "text": [
      "95.93\n"
     ]
    }
   ],
   "source": [
    "# LogisticRegression (not using ont hot is better)\n",
    "from sklearn.metrics import accuracy_score\n",
    "logModel = LogisticRegression()\n",
    "logModel.fit(train_X, train_Y)\n",
    "# Y_pred = logModel.predict(test_X)\n",
    "# print(Y_pred)\n",
    "acc_logModel = round(logModel.score(test_X, test_Y)*100, 2)\n",
    "# acc_logModel = accuracy_score(test_Y, Y_pred)\n",
    "print(acc_logModel)"
   ]
  },
  {
   "cell_type": "code",
   "execution_count": 13,
   "metadata": {
    "collapsed": false
   },
   "outputs": [
    {
     "name": "stdout",
     "output_type": "stream",
     "text": [
      "98.56\n"
     ]
    }
   ],
   "source": [
    "# SVM \n",
    "svmModel = SVC(probability=True)\n",
    "svmModel.fit(enc_train_X, train_Y)\n",
    "acc_svmModel = round(svmModel.score(enc_test_X, test_Y)*100, 2)\n",
    "print(acc_svmModel)"
   ]
  },
  {
   "cell_type": "code",
   "execution_count": 32,
   "metadata": {
    "collapsed": false
   },
   "outputs": [
    {
     "name": "stdout",
     "output_type": "stream",
     "text": [
      "91.63\n"
     ]
    }
   ],
   "source": [
    "# KNN\n",
    "res = []\n",
    "for i in range(1, 50):\n",
    "    knnModel = KNeighborsClassifier(n_neighbors=i)\n",
    "    knnModel.fit(train_X, train_Y)\n",
    "    acc_knnModel = round(knnModel.score(test_X, test_Y)*100, 2)\n",
    "    res.append(acc_knnModel)\n",
    "#     print(acc_knnModel)\n",
    "# print('The largest is')\n",
    "print(max(res))"
   ]
  },
  {
   "cell_type": "code",
   "execution_count": 17,
   "metadata": {
    "collapsed": false
   },
   "outputs": [
    {
     "name": "stdout",
     "output_type": "stream",
     "text": [
      "83.25\n"
     ]
    }
   ],
   "source": [
    "# Gaussian Naive Bayes (dense vectors are required)\n",
    "gaussianModel = GaussianNB()\n",
    "gaussianModel.fit(train_X, train_Y)\n",
    "acc_gaussianModel = round(gaussianModel.score(test_X, test_Y) * 100, 2)\n",
    "print(acc_gaussianModel)"
   ]
  },
  {
   "cell_type": "code",
   "execution_count": 18,
   "metadata": {
    "collapsed": false,
    "scrolled": true
   },
   "outputs": [
    {
     "name": "stdout",
     "output_type": "stream",
     "text": [
      "93.54\n"
     ]
    }
   ],
   "source": [
    "# Multinomial Naive Bayes (this is comparable with our implemented naive bayers)\n",
    "MultinomialModel = MultinomialNB()\n",
    "MultinomialModel.fit(enc_train_X, train_Y)\n",
    "acc_MultinomialModel = round(MultinomialModel.score(enc_test_X, test_Y) * 100, 2)\n",
    "print(acc_MultinomialModel)"
   ]
  },
  {
   "cell_type": "code",
   "execution_count": 20,
   "metadata": {
    "collapsed": false
   },
   "outputs": [
    {
     "name": "stdout",
     "output_type": "stream",
     "text": [
      "95.22\n"
     ]
    }
   ],
   "source": [
    "# Perceptron (not using one hot is better)\n",
    "perceptronModel = Perceptron()\n",
    "perceptronModel.fit(train_X, train_Y)\n",
    "acc_perceptronModel = round(perceptronModel.score(test_X, test_Y)*100, 2)\n",
    "print(acc_perceptronModel)"
   ]
  },
  {
   "cell_type": "code",
   "execution_count": 31,
   "metadata": {
    "collapsed": false
   },
   "outputs": [
    {
     "name": "stdout",
     "output_type": "stream",
     "text": [
      "93.06\n"
     ]
    }
   ],
   "source": [
    "# Stochastic Gradient Descent (score not stable)\n",
    "sgdModel = SGDClassifier()\n",
    "sgdModel.fit(enc_train_X, train_Y)\n",
    "acc_sgdModel = round(sgdModel.score(enc_test_X, test_Y)*100, 2)\n",
    "print(acc_sgdModel)"
   ]
  },
  {
   "cell_type": "code",
   "execution_count": 47,
   "metadata": {
    "collapsed": false
   },
   "outputs": [
    {
     "data": {
      "text/plain": [
       "{'a': [1, 2, 3]}"
      ]
     },
     "execution_count": 47,
     "metadata": {},
     "output_type": "execute_result"
    }
   ],
   "source": [
    "dict(a = [1,2,3])"
   ]
  },
  {
   "cell_type": "code",
   "execution_count": 86,
   "metadata": {
    "collapsed": false
   },
   "outputs": [
    {
     "name": "stdout",
     "output_type": "stream",
     "text": [
      "[0.46, 0.1, 0.2]\n",
      "85.17\n",
      "0.1\n"
     ]
    }
   ],
   "source": [
    "# Decision Tree\n",
    "from sklearn.model_selection import GridSearchCV\n",
    "# alphas = np.array(range(0,100))/100.\n",
    "alphas = [0.46,0.1,0.2]\n",
    "print(alphas)\n",
    "decisionTreeModel = DecisionTreeClassifier()\n",
    "Grid = GridSearchCV(estimator=decisionTreeModel, param_grid=dict(min_impurity_split=alphas))\n",
    "Grid.fit(train_X, train_Y)\n",
    "# choose the best estimator automatically\n",
    "acc_decisionTreeModel = round(Grid.score(test_X, test_Y)*100, 2)\n",
    "print(acc_decisionTreeModel)\n",
    "print(Grid.best_estimator_.min_impurity_split)"
   ]
  },
  {
   "cell_type": "code",
   "execution_count": 91,
   "metadata": {
    "collapsed": false
   },
   "outputs": [
    {
     "name": "stdout",
     "output_type": "stream",
     "text": [
      "93.78\n"
     ]
    }
   ],
   "source": [
    "# Decision Tree\n",
    "decisionTreeModel = DecisionTreeClassifier(min_impurity_split=0.46)\n",
    "decisionTreeModel.fit(train_X, train_Y)\n",
    "acc_decisionTreeModel = round(decisionTreeModel.score(test_X, test_Y)*100, 2)\n",
    "print(acc_decisionTreeModel)"
   ]
  },
  {
   "cell_type": "code",
   "execution_count": 33,
   "metadata": {
    "collapsed": false
   },
   "outputs": [
    {
     "name": "stdout",
     "output_type": "stream",
     "text": [
      "83.25\n"
     ]
    }
   ],
   "source": [
    "# Random Forest\n",
    "random_forestModel = RandomForestClassifier(n_estimators=500)\n",
    "random_forestModel.fit(train_X, train_Y)\n",
    "acc_random_forestModel = round(random_forestModel.score(test_X, test_Y)*100, 2)\n",
    "print(acc_random_forestModel)"
   ]
  },
  {
   "cell_type": "code",
   "execution_count": 87,
   "metadata": {
    "collapsed": false
   },
   "outputs": [
    {
     "name": "stderr",
     "output_type": "stream",
     "text": [
      "/Users/apple/anaconda/lib/python2.7/site-packages/sklearn/cross_validation.py:44: DeprecationWarning: This module was deprecated in version 0.18 in favor of the model_selection module into which all the refactored classes and functions are moved. Also note that the interface of the new CV iterators are different from that of this module. This module will be removed in 0.20.\n",
      "  \"This module will be removed in 0.20.\", DeprecationWarning)\n",
      "/Users/apple/anaconda/lib/python2.7/site-packages/sklearn/grid_search.py:43: DeprecationWarning: This module was deprecated in version 0.18 in favor of the model_selection module into which all the refactored classes and functions are moved. This module will be removed in 0.20.\n",
      "  DeprecationWarning)\n"
     ]
    },
    {
     "name": "stdout",
     "output_type": "stream",
     "text": [
      "{'max_features': 'auto', 'n_estimators': 700}\n"
     ]
    }
   ],
   "source": [
    "from sklearn.grid_search import GridSearchCV\n",
    "from sklearn.datasets import make_classification\n",
    "from sklearn.ensemble import RandomForestClassifier\n",
    "# Build a classification task using 3 informative features\n",
    "X, y = make_classification(n_samples=1000,\n",
    "                           n_features=10,\n",
    "                           n_informative=3,\n",
    "                           n_redundant=0,\n",
    "                           n_repeated=0,\n",
    "                           n_classes=2,\n",
    "                           random_state=0,\n",
    "                           shuffle=False)\n",
    "\n",
    "\n",
    "rfc = RandomForestClassifier(n_jobs=-1,max_features= 'sqrt' ,n_estimators=50, oob_score = True) \n",
    "\n",
    "param_grid = { \n",
    "    'n_estimators': [200, 700],\n",
    "    'max_features': ['auto', 'sqrt', 'log2']\n",
    "}\n",
    "\n",
    "CV_rfc = GridSearchCV(estimator=rfc, param_grid=param_grid, cv= 5)\n",
    "CV_rfc.fit(train_X, train_Y)\n",
    "print CV_rfc.best_params_"
   ]
  },
  {
   "cell_type": "code",
   "execution_count": 94,
   "metadata": {
    "collapsed": false
   },
   "outputs": [
    {
     "name": "stdout",
     "output_type": "stream",
     "text": [
      "83.97\n",
      "{'max_features': 'auto', 'n_estimators': 700}\n"
     ]
    }
   ],
   "source": [
    "acc_random_forestModel = round(CV_rfc.score(test_X, test_Y)*100, 2)\n",
    "print(acc_random_forestModel)\n",
    "print(CV_rfc.best_params_)"
   ]
  },
  {
   "cell_type": "code",
   "execution_count": 92,
   "metadata": {
    "collapsed": false
   },
   "outputs": [
    {
     "data": {
      "text/html": [
       "<div>\n",
       "<table border=\"1\" class=\"dataframe\">\n",
       "  <thead>\n",
       "    <tr style=\"text-align: right;\">\n",
       "      <th></th>\n",
       "      <th>Model</th>\n",
       "      <th>Score</th>\n",
       "    </tr>\n",
       "  </thead>\n",
       "  <tbody>\n",
       "    <tr>\n",
       "      <th>0</th>\n",
       "      <td>Support Vector Machines</td>\n",
       "      <td>98.56</td>\n",
       "    </tr>\n",
       "    <tr>\n",
       "      <th>2</th>\n",
       "      <td>Logistic Regression</td>\n",
       "      <td>95.93</td>\n",
       "    </tr>\n",
       "    <tr>\n",
       "      <th>1</th>\n",
       "      <td>KNN</td>\n",
       "      <td>95.69</td>\n",
       "    </tr>\n",
       "    <tr>\n",
       "      <th>5</th>\n",
       "      <td>Perceptron</td>\n",
       "      <td>95.22</td>\n",
       "    </tr>\n",
       "    <tr>\n",
       "      <th>8</th>\n",
       "      <td>Decision Tree</td>\n",
       "      <td>93.78</td>\n",
       "    </tr>\n",
       "    <tr>\n",
       "      <th>7</th>\n",
       "      <td>Multinomial Naive Bayers</td>\n",
       "      <td>93.54</td>\n",
       "    </tr>\n",
       "    <tr>\n",
       "      <th>6</th>\n",
       "      <td>Stochastic Gradient Decent</td>\n",
       "      <td>93.06</td>\n",
       "    </tr>\n",
       "    <tr>\n",
       "      <th>3</th>\n",
       "      <td>Random Forest</td>\n",
       "      <td>83.97</td>\n",
       "    </tr>\n",
       "    <tr>\n",
       "      <th>4</th>\n",
       "      <td>Naive Bayes Gussian</td>\n",
       "      <td>83.25</td>\n",
       "    </tr>\n",
       "  </tbody>\n",
       "</table>\n",
       "</div>"
      ],
      "text/plain": [
       "                        Model  Score\n",
       "0     Support Vector Machines  98.56\n",
       "2         Logistic Regression  95.93\n",
       "1                         KNN  95.69\n",
       "5                  Perceptron  95.22\n",
       "8               Decision Tree  93.78\n",
       "7    Multinomial Naive Bayers  93.54\n",
       "6  Stochastic Gradient Decent  93.06\n",
       "3               Random Forest  83.97\n",
       "4         Naive Bayes Gussian  83.25"
      ]
     },
     "execution_count": 92,
     "metadata": {},
     "output_type": "execute_result"
    }
   ],
   "source": [
    "models = pd.DataFrame({\n",
    "    'Model': ['Support Vector Machines', 'KNN', 'Logistic Regression', \n",
    "              'Random Forest', 'Naive Bayes Gussian', 'Perceptron', \n",
    "              'Stochastic Gradient Decent', 'Multinomial Naive Bayers', \n",
    "              'Decision Tree'],\n",
    "    'Score': [acc_svmModel, acc_knnModel, acc_logModel, \n",
    "              acc_random_forestModel, acc_gaussianModel, acc_perceptronModel, \n",
    "              acc_sgdModel, acc_MultinomialModel, acc_decisionTreeModel]})\n",
    "models.sort_values(by='Score', ascending=False)"
   ]
  },
  {
   "cell_type": "code",
   "execution_count": null,
   "metadata": {
    "collapsed": true
   },
   "outputs": [],
   "source": []
  }
 ],
 "metadata": {
  "kernelspec": {
   "display_name": "Python 2",
   "language": "python",
   "name": "python2"
  },
  "language_info": {
   "codemirror_mode": {
    "name": "ipython",
    "version": 2
   },
   "file_extension": ".py",
   "mimetype": "text/x-python",
   "name": "python",
   "nbconvert_exporter": "python",
   "pygments_lexer": "ipython2",
   "version": "2.7.13"
  }
 },
 "nbformat": 4,
 "nbformat_minor": 2
}
